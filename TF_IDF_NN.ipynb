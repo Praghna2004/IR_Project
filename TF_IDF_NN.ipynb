{
 "cells": [
  {
   "cell_type": "markdown",
   "metadata": {},
   "source": [
    "# **DISEASE DETECTION AND IDENTIFICATION BASED ON SYMPTOMS**"
   ]
  },
  {
   "cell_type": "code",
   "execution_count": 1,
   "metadata": {},
   "outputs": [
    {
     "name": "stderr",
     "output_type": "stream",
     "text": [
      "[nltk_data] Downloading package stopwords to\n",
      "[nltk_data]     C:\\Users\\kakan\\AppData\\Roaming\\nltk_data...\n",
      "[nltk_data]   Package stopwords is already up-to-date!\n",
      "[nltk_data] Downloading package wordnet to\n",
      "[nltk_data]     C:\\Users\\kakan\\AppData\\Roaming\\nltk_data...\n",
      "[nltk_data]   Package wordnet is already up-to-date!\n"
     ]
    },
    {
     "data": {
      "text/plain": [
       "True"
      ]
     },
     "execution_count": 1,
     "metadata": {},
     "output_type": "execute_result"
    }
   ],
   "source": [
    "import nltk\n",
    "nltk.download('stopwords')\n",
    "nltk.download('wordnet')"
   ]
  },
  {
   "cell_type": "code",
   "execution_count": 2,
   "metadata": {},
   "outputs": [],
   "source": [
    "# importing necessary libraries\n",
    "import numpy as np\n",
    "import pandas as pd\n",
    "import math\n",
    "from sklearn.model_selection import train_test_split,cross_val_score\n",
    "import math\n",
    "import operator\n",
    "import pickle\n",
    "import re\n",
    "from nltk.stem import WordNetLemmatizer\n",
    "import numpy as np\n",
    "from nltk.corpus import stopwords\n",
    "from nltk.stem.porter import PorterStemmer\n",
    "from nltk.tokenize import RegexpTokenizer\n",
    "from statistics import mean\n",
    "from nltk.corpus import wordnet \n",
    "import requests\n",
    "from bs4 import BeautifulSoup\n",
    "from itertools import combinations\n",
    "from time import time\n",
    "from collections import Counter\n",
    "import operator\n",
    "import warnings\n",
    "import matplotlib.pyplot as plt\n",
    "# To ignore unnecessary warnings\n",
    "warnings.simplefilter(\"ignore\")\n"
   ]
  },
  {
   "cell_type": "markdown",
   "metadata": {},
   "source": [
    "Obtained DISEASE SYMPTOM dataset from kaggle and calculating TF-IDF values"
   ]
  },
  {
   "cell_type": "code",
   "execution_count": 3,
   "metadata": {},
   "outputs": [],
   "source": [
    "df = pd.read_csv(\"Dataset\\dis_sym_dataset_norm.csv\")\n",
    "\n",
    "# extract disease labels and store them in 'documentname_list'\n",
    "documentname_list= list(df['label_dis'])\n",
    "df=df.iloc[:,1:]\n",
    "columns_name=list(df.columns)\n",
    "documentname_list=list(documentname_list)\n",
    "\n",
    "#extract symptoms and store them in 'columns_name'\n",
    "N=len(df)\n",
    "M=len(columns_name)\n",
    "\n",
    "# symptoms IDF\n",
    "idf={}\n",
    "for col in columns_name:\n",
    "  temp=np.count_nonzero(df[col])\n",
    "  idf[col]=np.log(N/temp)\n",
    "\n",
    "# disease,symptom TF\n",
    "tf={}\n",
    "for i in range(N):\n",
    "  for col in columns_name:\n",
    "    key=(documentname_list[i],col)\n",
    "    tf[key]=df.loc[i,col]\n",
    "\n",
    "# disease,symptom TF.IDF\n",
    "tf_idf={}\n",
    "for i in range(N):\n",
    "  for col in columns_name:\n",
    "    key=(documentname_list[i],col)\n",
    "    tf_idf[key]=float(idf[col])*float(tf[key])"
   ]
  },
  {
   "cell_type": "code",
   "execution_count": 4,
   "metadata": {},
   "outputs": [],
   "source": [
    "# The matrix D will contain the TF-IDF values for each disease-symptom pair.\n",
    "# rows - diseases\n",
    "# columns - symptoms\n",
    "D = np.zeros((N, M),dtype='float32')\n",
    "for i in tf_idf:\n",
    "    sym = columns_name.index(i[1])\n",
    "    dis=documentname_list.index(i[0])\n",
    "    D[dis][sym] = tf_idf[i]"
   ]
  },
  {
   "cell_type": "markdown",
   "metadata": {},
   "source": [
    "similarity calculation using cosine siilarity and TF-IDF values"
   ]
  },
  {
   "cell_type": "code",
   "execution_count": 5,
   "metadata": {},
   "outputs": [],
   "source": [
    "\n",
    "# cosine dot product\n",
    "def cosine_dot(a, b):\n",
    "    if np.linalg.norm(a) == 0 or np.linalg.norm(b) == 0:\n",
    "        return 0\n",
    "    else:\n",
    "        temp = np.dot(a, b) / (np.linalg.norm(a) * np.linalg.norm(b))\n",
    "        return temp\n",
    "\n",
    "# data to lower case\n",
    "def convert_tolowercase(data):\n",
    "    return data.lower()\n",
    "\n",
    "# tokenization\n",
    "def regextokenizer_func(data):\n",
    "    tokenizer = RegexpTokenizer(r'\\w+')\n",
    "    data = tokenizer.tokenize(data)\n",
    "    return data\n",
    "\n",
    "# function to generate query vector for tf_idf\n",
    "def gen_vector(tokens):\n",
    "    Q = np.zeros(M)\n",
    "    counter = Counter(tokens)\n",
    "    query_weights = {}\n",
    "    for token in np.unique(tokens):\n",
    "        tf = counter[token]\n",
    "        try:\n",
    "          idf_temp=idf[token]\n",
    "        except:\n",
    "          pass\n",
    "        try:\n",
    "            ind = columns_name.index(token)\n",
    "            Q[ind] = tf*idf_temp\n",
    "        except:\n",
    "            pass\n",
    "    return Q\n",
    "\n",
    "# function to calculate tf_idf_score\n",
    "def tf_idf_score(k, query):\n",
    "    query_weights = {}\n",
    "    for key in tf_idf:\n",
    "        if key[1] in query:\n",
    "            try:\n",
    "                query_weights[key[0]] += tf_idf[key]\n",
    "            except:\n",
    "                query_weights[key[0]] = tf_idf[key]\n",
    "    query_weights = sorted(query_weights.items(), key=lambda x: x[1], reverse=True)\n",
    "  \n",
    "    l = []\n",
    "    for i in query_weights[:k]:\n",
    "        l.append(i)\n",
    "    return l\n",
    "\n",
    "# function to calculte Cosine Similarity \n",
    "def cosine_similarity(k, query):\n",
    "    d_cosines = []\n",
    "    query_vector = gen_vector(query)\n",
    "    for d in D:\n",
    "        d_cosines.append(cosine_dot(query_vector, d))\n",
    "    out = np.array(d_cosines).argsort()[-k:][::-1]\n",
    "    \n",
    "    final_display_disease={}\n",
    "    for lt in set(out):\n",
    "      final_display_disease[lt] = float(d_cosines[lt])\n",
    "    return final_display_disease"
   ]
  },
  {
   "cell_type": "markdown",
   "metadata": {},
   "source": [
    "Retrieving symptoms list for a given input from thesaurus.com and Wordnet "
   ]
  },
  {
   "cell_type": "code",
   "execution_count": 6,
   "metadata": {},
   "outputs": [],
   "source": [
    "#  list of synonyms of word from thesaurus.com (https://www.thesaurus.com/) and wordnet (https://www.nltk.org/howto/wordnet.html)\n",
    "\n",
    "def synonyms(term):\n",
    "    synonyms = []\n",
    "    response = requests.get('https://www.thesaurus.com/browse/{}'.format(term))\n",
    "    soup = BeautifulSoup(response.content,  \"html.parser\")\n",
    "    try:\n",
    "        container=soup.find('section', {'class': 'MainContentContainer'}) \n",
    "        row=container.find('div',{'class':'css-191l5o0-ClassicContentCard'})\n",
    "        row = row.find_all('li')\n",
    "        for x in row:\n",
    "            synonyms.append(x.get_text())\n",
    "    except:\n",
    "        None\n",
    "    for syn in wordnet.synsets(term):\n",
    "        synonyms+=syn.lemma_names()\n",
    "    return set(synonyms)"
   ]
  },
  {
   "cell_type": "code",
   "execution_count": 7,
   "metadata": {},
   "outputs": [],
   "source": [
    "# instantiating objects of libraries\n",
    "splitter = RegexpTokenizer(r'\\w+')\n",
    "stop_words = stopwords.words('english')\n",
    "lemmatizer = WordNetLemmatizer()"
   ]
  },
  {
   "cell_type": "markdown",
   "metadata": {},
   "source": [
    "*dis_sym_dataset_comb -> dataset generated by combining symptoms for each disease.*\n",
    "\n",
    "*dis_sym_dataset_norm -> dataset which contains a single row for each diseases with the symptoms for that corresponding disease.*\n",
    "\n",
    "*dis_symp_dict -> contains list of symptoms*"
   ]
  },
  {
   "cell_type": "code",
   "execution_count": 8,
   "metadata": {},
   "outputs": [],
   "source": [
    "# Load Dataset scraped from NHP (https://www.nhp.gov.in/disease-a-z) & Wikipedia\n",
    "# Web Scrapping and Dataset creation is done in a separate program\n",
    "df_comb = pd.read_csv(\"Dataset\\dis_sym_dataset_comb.csv\") \n",
    "df_norm = pd.read_csv(\"Dataset\\dis_sym_dataset_norm.csv\") \n",
    "Y = df_norm.iloc[:, 0:1]\n",
    "X = df_norm.iloc[:, 1:]\n",
    "# List of symptoms\n",
    "dataset_symptoms = list(X.columns)\n",
    "diseases = list(set(Y['label_dis']))\n",
    "diseases.sort()"
   ]
  },
  {
   "cell_type": "markdown",
   "metadata": {},
   "source": [
    "Taking input from user (symptoms)"
   ]
  },
  {
   "cell_type": "code",
   "execution_count": 9,
   "metadata": {},
   "outputs": [],
   "source": [
    "# Taking symptoms from user as input\n",
    "# Preprocessing symtoms \n",
    "user_symptoms = str(input(\"\\nPlease enter symptoms you experience separated by comma(,):\\n\")).lower().split(',')\n",
    "# user_symptoms = st.text_input(\"Enter symptoms separated by comma (,):\").lower().split(',')\n",
    "processed_user_symptoms=[]\n",
    "for sym in user_symptoms:\n",
    "    sym=sym.strip()\n",
    "    sym=sym.replace('-',' ')\n",
    "    sym=sym.replace(\"'\",'')\n",
    "    sym = ' '.join([lemmatizer.lemmatize(word) for word in splitter.tokenize(sym)])\n",
    "    processed_user_symptoms.append(sym) "
   ]
  },
  {
   "cell_type": "markdown",
   "metadata": {},
   "source": [
    "Performing Query Expansion"
   ]
  },
  {
   "cell_type": "code",
   "execution_count": 10,
   "metadata": {},
   "outputs": [
    {
     "name": "stdout",
     "output_type": "stream",
     "text": [
      "After query expansion done by using the symptoms entered\n",
      "['feverishness febricity pyrexia fever febrility', 'insensate frigid cold cold-blooded dusty low temperature moth-eaten frigidity common cold stale frigidness coldness inhuman', 'coughing cough']\n"
     ]
    }
   ],
   "source": [
    "# Finding all of the synonyms for each user symptom and adding them to the pre-processed symptom string\n",
    "user_symptoms = []\n",
    "for user_sym in processed_user_symptoms:\n",
    "    user_sym = user_sym.split()\n",
    "    str_sym = set()\n",
    "    for comb in range(1, len(user_sym)+1):\n",
    "        for subset in combinations(user_sym, comb):\n",
    "            subset=' '.join(subset)\n",
    "            subset = synonyms(subset) \n",
    "            str_sym.update(subset)\n",
    "    str_sym.add(' '.join(user_sym))\n",
    "    user_symptoms.append(' '.join(str_sym).replace('_',' '))\n",
    "# query expansion is carried out by combining synonyms discovered for every symptom that was initially input.\n",
    "\n",
    "print(\"After query expansion done by using the symptoms entered\")\n",
    "print(user_symptoms)\n"
   ]
  },
  {
   "cell_type": "code",
   "execution_count": 11,
   "metadata": {},
   "outputs": [],
   "source": [
    "# Iterate through every symptom in the dataset and compare its similarity score to the user-inputted synonym string.\n",
    "# If similarity>0.5 -> add the symptom to the final list\n",
    "\n",
    "found_symptoms = set()\n",
    "for idx, data_sym in enumerate(dataset_symptoms):\n",
    "    data_sym_split=data_sym.split()\n",
    "    for user_sym in user_symptoms:\n",
    "        count=0\n",
    "        for symp in data_sym_split:\n",
    "            if symp in user_sym.split():\n",
    "                count+=1\n",
    "        if count/len(data_sym_split)>0.5:\n",
    "            found_symptoms.add(data_sym)\n",
    "found_symptoms = list(found_symptoms)"
   ]
  },
  {
   "cell_type": "code",
   "execution_count": 12,
   "metadata": {},
   "outputs": [
    {
     "name": "stdout",
     "output_type": "stream",
     "text": [
      "Top matching symptoms from your search!\n",
      "0 : coughing\n",
      "1 : fever\n"
     ]
    }
   ],
   "source": [
    "# Print all found symptoms\n",
    "print(\"Top matching symptoms from your search!\")\n",
    "for idx, symp in enumerate(found_symptoms):\n",
    "    print(idx,\":\",symp)\n",
    "\n",
    "# Ask the user to choose from a list of relevant symptoms that were detected in the dataset.\n",
    "select_list = input(\"\\n Select the relevant symptoms. Enter indices (separated-space):\\n\").split()\n",
    "\n",
    "dis_list = set()\n",
    "final_symp = [] \n",
    "counter_list = []\n",
    "for idx in select_list:\n",
    "    symp=found_symptoms[int(idx)]\n",
    "    final_symp.append(symp)\n",
    "    dis_list.update(set(df_norm[df_norm[symp]==1]['label_dis']))\n",
    "   \n",
    "for dis in dis_list:\n",
    "    row = df_norm.loc[df_norm['label_dis'] == dis].values.tolist()\n",
    "    row[0].pop(0)\n",
    "    for idx,val in enumerate(row[0]):\n",
    "        if val!=0 and dataset_symptoms[idx] not in final_symp:\n",
    "            counter_list.append(dataset_symptoms[idx])\n",
    "\n",
    "# Symptoms that co-occur with the ones selected by user              \n",
    "dict_symp = dict(Counter(counter_list))\n",
    "dict_symp_tup = sorted(dict_symp.items(), key=operator.itemgetter(1),reverse=True) \n",
    "\n",
    "#dict_symp_tup contains a list of tuples, where each tuple represents a co-occurring symptom along with its count, sorted by count in descending order."
   ]
  },
  {
   "cell_type": "code",
   "execution_count": 13,
   "metadata": {},
   "outputs": [
    {
     "name": "stdout",
     "output_type": "stream",
     "text": [
      "\n",
      "General co-occuring symptoms:\n",
      "0 : headache\n",
      "1 : testicular pain\n",
      "2 : vomiting\n",
      "3 : barky cough\n",
      "4 : sore throat\n",
      "\n",
      "General co-occuring symptoms:\n",
      "0 : maculopapular rash\n",
      "1 : diarrhea\n",
      "2 : confusion\n",
      "3 : shortness breath\n",
      "4 : feeling tired\n"
     ]
    }
   ],
   "source": [
    "# Iteratively recommend the user's top co-occurring symptoms and request that they choose the ones that apply. \n",
    "\n",
    "found_symptoms=[]\n",
    "count=0\n",
    "for tup in dict_symp_tup:\n",
    "    count+=1\n",
    "    found_symptoms.append(tup[0])\n",
    "    if count%5==0 or count==len(dict_symp_tup):\n",
    "        print(\"\\nGeneral co-occuring symptoms:\")\n",
    "        for idx,ele in enumerate(found_symptoms):\n",
    "            print(idx,\":\",ele)\n",
    "        select_list = input(\"Do you have any of these symptoms? If Yes, enter the indices (space-separated), 'no' to stop, '-1' to skip:\\n\").lower().split()\n",
    "        if select_list[0]=='no':\n",
    "            break\n",
    "        if select_list[0]=='-1':\n",
    "            found_symptoms = [] \n",
    "            continue\n",
    "        for idx in select_list:\n",
    "            final_symp.append(found_symptoms[int(idx)])\n",
    "        found_symptoms = [] "
   ]
  },
  {
   "cell_type": "markdown",
   "metadata": {},
   "source": [
    "Finalised Symptoms"
   ]
  },
  {
   "cell_type": "code",
   "execution_count": 14,
   "metadata": {},
   "outputs": [
    {
     "name": "stdout",
     "output_type": "stream",
     "text": [
      "Finalised  list of Symptoms based on the inputs from the user : \n",
      "coughing\n",
      "fever\n",
      "headache\n",
      "vomiting\n"
     ]
    }
   ],
   "source": [
    "# Find TF-IDF and Cosine Similarity using matched symptoms\n",
    "k = 5\n",
    "\n",
    "print(\"Finalised  list of Symptoms based on the inputs from the user : \")\n",
    "for val in final_symp:\n",
    "    print(val)\n"
   ]
  },
  {
   "cell_type": "markdown",
   "metadata": {},
   "source": [
    "Predicting the top 10 diseases based on symptoms given by user"
   ]
  },
  {
   "cell_type": "code",
   "execution_count": 15,
   "metadata": {},
   "outputs": [
    {
     "name": "stdout",
     "output_type": "stream",
     "text": [
      "\n",
      "Top 10 diseases predicted based on TF_IDF Matching :\n",
      "\n",
      "0. Disease : Influenza \t Score : 7.71\n",
      "1. Disease : Acute encephalitis syndrome \t Score : 5.92\n",
      "2. Disease : Bubonic plague \t Score : 5.92\n",
      "3. Disease : Crimean Congo haemorrhagic fever (CCHF) \t Score : 5.92\n",
      "4. Disease : Japanese Encephalitis \t Score : 5.92\n",
      "5. Disease : Malaria \t Score : 5.92\n",
      "6. Disease : Brain Tumour \t Score : 4.63\n",
      "7. Disease : Carbon monoxide poisoning \t Score : 4.63\n",
      "8. Disease : Asthma \t Score : 4.47\n",
      "9. Disease : Brucellosis \t Score : 4.47\n"
     ]
    }
   ],
   "source": [
    "k = 10\n",
    "topk1=tf_idf_score(k,final_symp)\n",
    "topk2=cosine_similarity(k,final_symp)\n",
    "\n",
    "print(f\"\\nTop {k} diseases predicted based on TF_IDF Matching :\\n\")\n",
    "i = 0\n",
    "topk1_index_mapping = {}\n",
    "for key, score in topk1:\n",
    "  print(f\"{i}. Disease : {key} \\t Score : {round(score, 2)}\")\n",
    "  topk1_index_mapping[i] = key\n",
    "  i += 1\n"
   ]
  },
  {
   "cell_type": "code",
   "execution_count": 16,
   "metadata": {},
   "outputs": [
    {
     "name": "stdout",
     "output_type": "stream",
     "text": [
      "Top 10 disease based on Cosine Similarity Matching :\n",
      " \n",
      "0. Disease[35] : Brucellosis \t Score : 0.78\n",
      "1. Disease[144] : Malaria \t Score : 0.62\n",
      "2. Disease[119] : Influenza \t Score : 0.49\n",
      "3. Disease[36] : Bubonic plague \t Score : 0.42\n",
      "4. Disease[207] : Rocky Mountain spotted fever \t Score : 0.41\n",
      "5. Disease[21] : Asthma \t Score : 0.37\n",
      "6. Disease[125] : Japanese Encephalitis \t Score : 0.35\n",
      "7. Disease[95] : Gastroenteritis \t Score : 0.32\n",
      "8. Disease[136] : Leptospirosis \t Score : 0.31\n",
      "9. Disease[206] : Rift Valley fever \t Score : 0.31\n",
      "Relevant Docs Id's:  ['35', '144', '119']\n"
     ]
    }
   ],
   "source": [
    "# display top k diseases predicted with cosine probablity\n",
    "print(f\"Top {k} disease based on Cosine Similarity Matching :\\n \")\n",
    "topk2_sorted = dict(sorted(topk2.items(), key=lambda kv: kv[1], reverse=True))\n",
    "j = 0\n",
    "\n",
    "topk2_index_mapping = {}\n",
    "for key in topk2_sorted:\n",
    "  print(f\"{j}. Disease[{key}] : {diseases[key]} \\t Score : {round(topk2_sorted[key], 2)}\")\n",
    "  topk2_index_mapping[j] = diseases[key]\n",
    "  j += 1\n",
    "\n",
    "finalitems = list(topk2_sorted.items())\n",
    "\n",
    "\n",
    "relevant_ind = input(\"\\nPlease select the relevant documents. Enter indices (separated-space):\\n\").split()\n",
    "relevant_docs = list()\n",
    "for i in relevant_ind:\n",
    "  docsid = finalitems[int(i)][0]\n",
    "  relevant_docs.append(str(docsid))\n",
    "print(\"Relevant Docs Id's: \", relevant_docs)\n"
   ]
  },
  {
   "cell_type": "markdown",
   "metadata": {},
   "source": [
    "Calculating and printing evaluation metrics(Precision,Recall) and generating a Precision-Recall curve"
   ]
  },
  {
   "cell_type": "code",
   "execution_count": 17,
   "metadata": {},
   "outputs": [
    {
     "name": "stdout",
     "output_type": "stream",
     "text": [
      "\n",
      "Evaluation Metrics: (Precision, Recall) :\n",
      "\n",
      "Precision :  1.0  Recall :  0.33 \n",
      "\n",
      "Precision :  1.0  Recall :  0.67 \n",
      "\n",
      "Precision :  1.0  Recall :  1.0 \n",
      "\n",
      "Precision :  0.75  Recall :  1.0 \n",
      "\n",
      "Precision :  0.6  Recall :  1.0 \n",
      "\n",
      "Precision :  0.5  Recall :  1.0 \n",
      "\n",
      "Precision :  0.43  Recall :  1.0 \n",
      "\n",
      "Precision :  0.38  Recall :  1.0 \n",
      "\n",
      "Precision :  0.33  Recall :  1.0 \n",
      "\n",
      "Precision :  0.3  Recall :  1.0 \n",
      "\n",
      "\n",
      "Mean Average Precision(MAP) for the above query is:  1.0\n"
     ]
    },
    {
     "data": {
      "image/png": "[encoded data removed]",
      "text/plain": [
       "<Figure size 640x480 with 1 Axes>"
      ]
     },
     "metadata": {},
     "output_type": "display_data"
    }
   ],
   "source": [
    "relevant = 0\n",
    "retrieved = 0\n",
    "total_relevant = len(relevant_docs)\n",
    "map_val = 0\n",
    "recall = list()\n",
    "precision = list()\n",
    "print(\"\\nEvaluation Metrics: (Precision, Recall) :\\n\")\n",
    "for key in topk2_sorted:\n",
    "    retrieved += 1\n",
    "    if str(key) in relevant_docs:\n",
    "        relevant += 1\n",
    "        map_val += round((relevant/retrieved), 2)\n",
    "    recall.append(round((relevant/total_relevant),2))\n",
    "    precision.append(round((relevant/retrieved), 2))\n",
    "    print(\"Precision : \", round((relevant/retrieved), 2), \" Recall : \", round((relevant/total_relevant),2), \"\\n\")\n",
    "\n",
    "print(\"\\nMean Average Precision(MAP) for the above query is: \", map_val/relevant)\n",
    "\n",
    "# use matplotlib to plot P-R curve\n",
    "plt.plot(recall,precision)\n",
    "plt.xlabel('Recall')\n",
    "plt.ylabel('Precision')\n",
    "plt.title(\"PRECISION-RECALL CURVE\")\n",
    "plt.show()"
   ]
  },
  {
   "cell_type": "markdown",
   "metadata": {},
   "source": [
    "Store relevance feedback information in \"relevance_feedback.json\" "
   ]
  },
  {
   "cell_type": "code",
   "execution_count": 18,
   "metadata": {},
   "outputs": [
    {
     "name": "stdout",
     "output_type": "stream",
     "text": [
      "{'coughing': ['35', '144', '119'], 'fever': ['35', '144', '119'], 'headache': ['35', '144', '119'], 'vomiting': ['35', '144', '119']}\n"
     ]
    }
   ],
   "source": [
    "import json\n",
    "item = dict()\n",
    "\n",
    "for eachs in final_symp:\n",
    "    item[eachs] = relevant_docs\n",
    "print(item)\n",
    "with open(\"relevance_feedback.json\", \"w\", encoding='utf-8') as file:\n",
    "    json.dump(item, file, indent=4)\n",
    "    file.close()"
   ]
  },
  {
   "cell_type": "markdown",
   "metadata": {},
   "source": [
    "Extracting relevant queries based on the rlevance feedback"
   ]
  },
  {
   "cell_type": "code",
   "execution_count": 19,
   "metadata": {},
   "outputs": [
    {
     "name": "stdout",
     "output_type": "stream",
     "text": [
      "['coughing', 'fever', 'headache', 'vomiting']\n"
     ]
    }
   ],
   "source": [
    "import ast\n",
    "f = open(\"relevance_feedback.json\", 'r')\n",
    "relevance_feedback = json.load(f)\n",
    "f.close()\n",
    "relevant_queries = list(relevance_feedback.keys())\n",
    "print(relevant_queries)"
   ]
  },
  {
   "cell_type": "markdown",
   "metadata": {},
   "source": [
    "Finalised top k relevant diseases based on relevance feedback and cosine similarity"
   ]
  },
  {
   "cell_type": "code",
   "execution_count": 20,
   "metadata": {},
   "outputs": [
    {
     "name": "stdout",
     "output_type": "stream",
     "text": [
      "Top 10 disease after Relevance Feedback :\n",
      " \n",
      "0. Disease [35] : Brucellosis \t Score : 1.18\n",
      "1. Disease [144] : Malaria \t Score : 1.02\n",
      "2. Disease [119] : Influenza \t Score : 0.89\n",
      "3. Disease [36] : Bubonic plague \t Score : 0.42\n",
      "4. Disease [207] : Rocky Mountain spotted fever \t Score : 0.41\n",
      "5. Disease [21] : Asthma \t Score : 0.37\n",
      "6. Disease [125] : Japanese Encephalitis \t Score : 0.35\n",
      "7. Disease [95] : Gastroenteritis \t Score : 0.32\n",
      "8. Disease [136] : Leptospirosis \t Score : 0.31\n",
      "9. Disease [206] : Rift Valley fever \t Score : 0.31\n"
     ]
    }
   ],
   "source": [
    "ranking = dict()\n",
    "original = cosine_similarity(k,final_symp)\n",
    "relevance_score = 0.1\n",
    "for query in final_symp:\n",
    "    for doc in topk2_sorted.keys():\n",
    "        if(query in relevant_queries and str(doc) in relevance_feedback[query]):\n",
    "            original[int(doc)] = original[int(doc)] + relevance_score\n",
    "    final_similarity =  dict(sorted(original.items(), key = lambda x : x[1], reverse = True))\n",
    "    \n",
    "\n",
    "print(f\"Top {k} disease after Relevance Feedback :\\n \")\n",
    "j = 0\n",
    "topk2_index_mapping = {}\n",
    "for key in final_similarity:\n",
    "  print(f\"{j}. Disease [{key}] : {diseases[key]} \\t Score : {round(final_similarity[key], 2)}\")\n",
    "  topk2_index_mapping[j] = diseases[key]\n",
    "  j += 1"
   ]
  }
 ],
 "metadata": {
  "kernelspec": {
   "display_name": "Python 3",
   "language": "python",
   "name": "python3"
  },
  "language_info": {
   "codemirror_mode": {
    "name": "ipython",
    "version": 3
   },
   "file_extension": ".py",
   "mimetype": "text/x-python",
   "name": "python",
   "nbconvert_exporter": "python",
   "pygments_lexer": "ipython3",
   "version": "3.11.0"
  }
 },
 "nbformat": 4,
 "nbformat_minor": 2
}
